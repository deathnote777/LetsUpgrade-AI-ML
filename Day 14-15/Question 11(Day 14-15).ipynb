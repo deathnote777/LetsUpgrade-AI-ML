{
 "cells": [
  {
   "cell_type": "markdown",
   "metadata": {},
   "source": [
    "# Note\n",
    "<font color=red>\n",
    "\n",
    "**Respected LU Team,**\n",
    "\n",
    "**Please reconsider this question as in previous submission I forgot to remove repeated indices.**\n",
    "\n",
    "**Thank You**"
   ]
  },
  {
   "cell_type": "markdown",
   "metadata": {},
   "source": [
    "**11.Consider a given vector, how to add 1 to each element indexed by a second vector (be careful with repeated indices)?**"
   ]
  },
  {
   "cell_type": "code",
   "execution_count": 11,
   "metadata": {},
   "outputs": [
    {
     "name": "stdout",
     "output_type": "stream",
     "text": [
      "The original vector is:\n",
      "[[-1.58985892e+00]\n",
      " [-6.48583588e-01]\n",
      " [ 2.69989102e-03]\n",
      " [-2.84029191e-01]\n",
      " [ 3.72357271e+00]\n",
      " [-4.23549329e-01]\n",
      " [ 1.87796258e+00]\n",
      " [ 4.17865694e-01]\n",
      " [ 1.05720174e-01]\n",
      " [ 1.05364936e+00]]\n",
      "The Index values obtained are:\n",
      "[6 0 2 0]\n",
      "The final unique index values are:\n",
      "[0 2 6]\n",
      "Final vector after adding 1 to corresponding elements at the specified indices:\n",
      "[[-0.58985892]\n",
      " [-0.64858359]\n",
      " [ 1.00269989]\n",
      " [-0.28402919]\n",
      " [ 3.72357271]\n",
      " [-0.42354933]\n",
      " [ 2.87796258]\n",
      " [ 0.41786569]\n",
      " [ 0.10572017]\n",
      " [ 1.05364936]]\n"
     ]
    }
   ],
   "source": [
    "import numpy as np \n",
    "Z = np.random.randn(10,1)#creates a random vector of given order\n",
    "print(\"The original vector is:\")\n",
    "print(Z)\n",
    "I=np.random.randint(0,len(Z),4)#generates 4 random integers in a specified range,used as index values\n",
    "print(\"The Index values obtained are:\")\n",
    "print(I)\n",
    "J=np.unique(I,axis=0)#removes the duplicate values\n",
    "print(\"The final unique index values are:\")\n",
    "print(J)\n",
    "print(\"Final vector after adding 1 to corresponding elements at the specified indices:\")\n",
    "np.add.at(Z,J,1)#Adds 1 to the elements in given vector (Z) at the specified index values(I)\n",
    "print(Z)"
   ]
  }
 ],
 "metadata": {
  "kernelspec": {
   "display_name": "Python 3",
   "language": "python",
   "name": "python3"
  },
  "language_info": {
   "codemirror_mode": {
    "name": "ipython",
    "version": 3
   },
   "file_extension": ".py",
   "mimetype": "text/x-python",
   "name": "python",
   "nbconvert_exporter": "python",
   "pygments_lexer": "ipython3",
   "version": "3.7.6"
  },
  "toc": {
   "base_numbering": 1,
   "nav_menu": {},
   "number_sections": true,
   "sideBar": true,
   "skip_h1_title": false,
   "title_cell": "Table of Contents",
   "title_sidebar": "Contents",
   "toc_cell": false,
   "toc_position": {},
   "toc_section_display": true,
   "toc_window_display": false
  }
 },
 "nbformat": 4,
 "nbformat_minor": 4
}
