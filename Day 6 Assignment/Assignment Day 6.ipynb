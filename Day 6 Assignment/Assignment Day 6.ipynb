{
 "cells": [
  {
   "cell_type": "markdown",
   "metadata": {},
   "source": [
    "Assuming that we have some email addresses in the \"username@companyname.com\" format, please write program to print the company name of a given email address. Both user names and company names are composed of letters only.\n",
    "\n",
    "Input Format: The first line of the input contains an email address.\n",
    "\n",
    "Output Format: Print the company name in single line.\n",
    "\n",
    "Example;\n",
    "\n",
    "Input: john@google.com\n",
    "\n",
    "Output: google "
   ]
  },
  {
   "cell_type": "code",
   "execution_count": 1,
   "metadata": {},
   "outputs": [
    {
     "name": "stdout",
     "output_type": "stream",
     "text": [
      "Enter your email address: apple@yahoo.com\n",
      "Company name is: yahoo\n"
     ]
    }
   ],
   "source": [
    "email = input('Enter your email address: ')\n",
    "company = email.split('@')[1].split('.')[0]\n",
    "print(f'Company name is: {company}')"
   ]
  },
  {
   "cell_type": "markdown",
   "metadata": {},
   "source": [
    "# Question 2:\n",
    "\n",
    "Write a program that accepts a comma-separated sequence of words as input and prints the words in a comma separated sequence after sorting them alphabetically.\n",
    "\n",
    "Input Format: The first line of input contains words separated by the comma.\n",
    "\n",
    "Output Format: Print the sorted words separated by the comma.\n",
    "\n",
    "Example: Input: without,hello,bag,world\n",
    "\n",
    "Output: bag,hello,without,world"
   ]
  },
  {
   "cell_type": "code",
   "execution_count": 2,
   "metadata": {},
   "outputs": [
    {
     "name": "stdout",
     "output_type": "stream",
     "text": [
      "Enter words in comma seperated form: cars,bikes,planes\n",
      "bikes,cars,planes\n"
     ]
    }
   ],
   "source": [
    "lst=input(\"Enter words in comma seperated form: \").split(\",\")\n",
    "lst.sort()\n",
    "str1=','.join(lst)\n",
    "print(str1)"
   ]
  },
  {
   "cell_type": "markdown",
   "metadata": {},
   "source": [
    "# Question 3:¶\n",
    "Create your own Jupyter Notebook for Sets. Reference link: https://www.w3schools.com/python/python_sets.asp\n",
    "\n",
    "A set is an unordered collection of items. Every set element is unique (no duplicates) and must be immutable (cannot be changed).\n",
    "\n",
    "However, a set itself is mutable. We can add or remove items from it.\n",
    "\n",
    "Sets can also be used to perform mathematical set operations like union, intersection, symmetric difference, etc."
   ]
  },
  {
   "cell_type": "code",
   "execution_count": 3,
   "metadata": {},
   "outputs": [
    {
     "name": "stdout",
     "output_type": "stream",
     "text": [
      "Duplicates are not allowed\n",
      " {1, 2, 3, 5, 6, 7}\n",
      "Union will return a new set\n",
      " {1, 2, 3, 'def', 5, 6, 7, 'ghi', 'abc'}\n",
      "Update will return a given set\n",
      " {1, 2, 3, 'def', 5, 6, 7, 'ghi', 'abc'}\n",
      "pop will return deleted element from set\n",
      " {2, 3, 'def', 5, 6, 7, 'ghi', 'abc'}\n",
      "Remove function will delete the element from set if element does not exists it will error whereas discard will not throw error {1, 2, 3, 'def', 5, 6, 7, 'ghi'} {2, 3, 'def', 5, 6, 7, 'ghi', 'abc'}\n",
      "Add function will append values  {2, 3, 'def', 5, 6, 7, 'ghi', 'abc'}\n"
     ]
    }
   ],
   "source": [
    "a = {1,2,2,3,5,6,7,7}\n",
    "print(\"Duplicates are not allowed\\n\",a)\n",
    "b = {\"abc\",\"def\",\"ghi\"}\n",
    "c=a.union(b)\n",
    "print(\"Union will return a new set\\n\",c)\n",
    "a.update(b)\n",
    "print(\"Update will return a given set\\n\",a)\n",
    "a.pop()\n",
    "print(\"pop will return deleted element from set\\n\",a)\n",
    "c.remove(\"abc\")\n",
    "c.discard(\"abc\")\n",
    "print(\"Remove function will delete the element from set if element does not exists it will error whereas discard will not throw error\",c,a)\n",
    "a.add(\"abc\")\n",
    "print(\"Add function will append values \",a)"
   ]
  },
  {
   "cell_type": "markdown",
   "metadata": {},
   "source": [
    "Question 4:¶\n",
    "\n",
    "Given a list of n-1 numbers ranging from 1 to n, your task is to find the missing number. There are no duplicates.\n",
    "\n",
    "Input Format: The first line contains n-1 numbers with each number separated by a space.\n",
    "\n",
    "Output Format: Print the missing number\n",
    "\n",
    "Example: Input:1 2 4 6 3 7 8\n",
    "\n",
    "Output:5 Explanation:\n",
    "\n",
    "In the above list of numbers 5 is missing and hence 5 is the input "
   ]
  },
  {
   "cell_type": "code",
   "execution_count": 4,
   "metadata": {},
   "outputs": [],
   "source": [
    "def findmissing(lst):\n",
    "    lst.sort()\n",
    "    sum1=0\n",
    "    for i in lst:\n",
    "        sum1 +=int(i)\n",
    "\n",
    "    last=int(lst.pop())\n",
    "    sum2=(last*(last+1))//2\n",
    "    \n",
    "    print(\"Missing number:\",sum2-sum1)"
   ]
  },
  {
   "cell_type": "code",
   "execution_count": 9,
   "metadata": {},
   "outputs": [
    {
     "name": "stdout",
     "output_type": "stream",
     "text": [
      "Enter number seperated by spaces1 8 4 2 5 3 6 7\n",
      "Missing number: 0\n"
     ]
    }
   ],
   "source": [
    "lst=input(\"Enter number seperated by spaces\").split(\" \")\n",
    "findmissing(lst)"
   ]
  },
  {
   "cell_type": "markdown",
   "metadata": {},
   "source": [
    "# Question 5:¶\n",
    "With a given list L, write a program to print this list L after removing all duplicate values with original order reserved.\n",
    "\n",
    "Example:\n",
    "    If the input list is\n",
    "    12 24 35 24 88 120 155 88 120 155\n",
    "    Then the output should be\n",
    "    12 24 35 88 120 155\n",
    "\n",
    "Explanation:\n",
    "  Third, seventh and ninth element of the list L has been removed because it was already present.\n",
    "\n",
    "Input Format:\n",
    "  In one line take the elements of the list L with each element separated by a space.\n",
    "\n",
    "Output Format:\n",
    "  Print the elements of the modified list in one line with each element separated by a space.\n",
    "\n",
    "Example:\n",
    "    Input: 12 24 35 24\n",
    "    Output: 12 24 35\n"
   ]
  },
  {
   "cell_type": "code",
   "execution_count": 15,
   "metadata": {},
   "outputs": [
    {
     "name": "stdout",
     "output_type": "stream",
     "text": [
      "After removing all duplicate values with original order reserved\n",
      " [12, 125, 88, 55, 24, 78, 66]\n"
     ]
    }
   ],
   "source": [
    "l = [12,125,88,12,55,24,88,78,66,55]\n",
    "D=[]\n",
    "for i in l:\n",
    "    if i not in D:\n",
    "        D.append(i)\n",
    "print(\"After removing all duplicate values with original order reserved\\n\",D)"
   ]
  },
  {
   "cell_type": "code",
   "execution_count": null,
   "metadata": {},
   "outputs": [],
   "source": []
  }
 ],
 "metadata": {
  "kernelspec": {
   "display_name": "Python 3",
   "language": "python",
   "name": "python3"
  },
  "language_info": {
   "codemirror_mode": {
    "name": "ipython",
    "version": 3
   },
   "file_extension": ".py",
   "mimetype": "text/x-python",
   "name": "python",
   "nbconvert_exporter": "python",
   "pygments_lexer": "ipython3",
   "version": "3.7.6"
  }
 },
 "nbformat": 4,
 "nbformat_minor": 4
}
