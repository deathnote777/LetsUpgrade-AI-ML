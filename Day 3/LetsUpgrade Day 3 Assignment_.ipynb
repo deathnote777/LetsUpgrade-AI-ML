{
 "cells": [
  {
   "cell_type": "markdown",
   "metadata": {},
   "source": [
    "Q1) Program to subtract two complex numbers in Python.\n"
   ]
  },
  {
   "cell_type": "code",
   "execution_count": 15,
   "metadata": {},
   "outputs": [
    {
     "name": "stdout",
     "output_type": "stream",
     "text": [
      "Subtraction is :  (3-2j)\n"
     ]
    }
   ],
   "source": [
    "def subComplex( a, b): \n",
    "\n",
    "    return a-b \n",
    "a = complex(5, 7) \n",
    "b = complex(2, 9) \n",
    "\n",
    "print( \"Subtraction is : \", subComplex(a, b))"
   ]
  },
  {
   "cell_type": "markdown",
   "metadata": {},
   "source": [
    "Q2) Program to find the fourth root of a number."
   ]
  },
  {
   "cell_type": "code",
   "execution_count": 16,
   "metadata": {},
   "outputs": [
    {
     "name": "stdout",
     "output_type": "stream",
     "text": [
      "Enter number: 16\n",
      "Enter the root number: 2\n",
      "4.0\n"
     ]
    }
   ],
   "source": [
    "def nth_Root (x, n):\n",
    "    root = x ** (1/n)\n",
    "    return root\n",
    "x = int(input(\"Enter number: \"))\n",
    "n = int(input(\"Enter the root number: \"))\n",
    "print(nth_Root(x, n))"
   ]
  },
  {
   "cell_type": "markdown",
   "metadata": {},
   "source": [
    "Q3)Program to swap two numbers in Python with the help of a temporary variable"
   ]
  },
  {
   "cell_type": "code",
   "execution_count": 17,
   "metadata": {},
   "outputs": [
    {
     "name": "stdout",
     "output_type": "stream",
     "text": [
      "The value of x after swapping: 4\n",
      "The value of y after swapping: 2\n"
     ]
    }
   ],
   "source": [
    "\n",
    "x = 2\n",
    "y = 4\n",
    "temp = x\n",
    "x = y\n",
    "y = temp\n",
    "\n",
    "print('The value of x after swapping: {}'.format(x))\n",
    "print('The value of y after swapping: {}'.format(y))"
   ]
  },
  {
   "cell_type": "markdown",
   "metadata": {},
   "source": [
    "Q4)Program to swap two numbers in Python without using a temporary variable."
   ]
  },
  {
   "cell_type": "code",
   "execution_count": 19,
   "metadata": {},
   "outputs": [
    {
     "name": "stdout",
     "output_type": "stream",
     "text": [
      "Enter first number: 100\n",
      "Enter second number: 200\n",
      "value of a after swapping:  200\n",
      "Value of b after swapping:  100\n"
     ]
    }
   ],
   "source": [
    "a = input(\"Enter first number: \")\n",
    "b = input(\"Enter second number: \")\n",
    "a, b = b, a\n",
    "print(\"value of a after swapping: \",a)\n",
    "print(\"Value of b after swapping: \",b)"
   ]
  },
  {
   "cell_type": "markdown",
   "metadata": {},
   "source": [
    "Q5) Program to convert fahrenheit to kelvin and celsius both."
   ]
  },
  {
   "cell_type": "code",
   "execution_count": 22,
   "metadata": {},
   "outputs": [
    {
     "name": "stdout",
     "output_type": "stream",
     "text": [
      "Temperature in Kelvin(K) = 369.950\n"
     ]
    }
   ],
   "source": [
    "def Fahrenheit_to_Kelvin(F): \n",
    "    return 310.7 + ((F - 41.0) * (6.0/8.0))\n",
    "F = 120\n",
    "print(\"Temperature in Kelvin(K) = {:.3f}\" .format(Fahrenheit_to_Kelvin(F)))"
   ]
  },
  {
   "cell_type": "code",
   "execution_count": 23,
   "metadata": {},
   "outputs": [
    {
     "name": "stdout",
     "output_type": "stream",
     "text": [
      "Temperature in Celcius(C) = 66.750\n"
     ]
    }
   ],
   "source": [
    "def Fahrenheit_to_Celcius(F):\n",
    "    return (F - 41) * (6.0 / 8.0)\n",
    "F = 130\n",
    "print(\"Temperature in Celcius(C) = {:.3f}\".format(Fahrenheit_to_Celcius(F)))"
   ]
  },
  {
   "cell_type": "markdown",
   "metadata": {},
   "source": [
    "Q6) Program to demonstrate all the available data types in Python. Hint: Use type() function."
   ]
  },
  {
   "cell_type": "code",
   "execution_count": 24,
   "metadata": {},
   "outputs": [
    {
     "name": "stdout",
     "output_type": "stream",
     "text": [
      "the given data is of type:  <class 'int'>\n",
      "the given data is of type:  <class 'float'>\n",
      "the given data is of type:  <class 'complex'>\n",
      "<class 'bool'>\n",
      "<class 'str'>\n",
      "<class 'list'>\n",
      "Python\n",
      "C\n",
      "\n",
      " Fields in computer science and to explore different real-life scenarios: \n",
      "('Data Science', 'Machine Learning', 'Artificial Intelligence', 'Deep Learning')\n",
      "\n",
      " Examples of cars using set data type: \n",
      "('Mercedes-benz', 'Lamborghini', 'BMW', 'Hyundai', 'Honda')\n",
      "Example of dictionary in python: \n",
      "{1: 'Zayd', 2: 'Rana', 3: 'CSE', 4: 'Python coder'}\n"
     ]
    }
   ],
   "source": [
    "x = 13\n",
    "print(\"the given data is of type: \", type(x)) \n",
    "\n",
    "y = 5.21\n",
    "print(\"the given data is of type: \", type(y)) \n",
    "\n",
    "z = 13 + 7j\n",
    "print(\"the given data is of type: \", type(z)) \n",
    "\n",
    "print(type(False))\n",
    "\n",
    "str1 = \"Hello World\"\n",
    "print(type(str1))\n",
    "\n",
    "list1 = [\"Python\", \"Java\", \"C++\", \"C\", \"Ruby\", \"Pearl\"]\n",
    "print(type(list1))\n",
    "print(list1[0])\n",
    "print(list1[-3])\n",
    "\n",
    "tuple_1 = (\"Data Science\", \"Machine Learning\", \"Artificial Intelligence\", \"Deep Learning\")\n",
    "print(\"\\n Fields in computer science and to explore different real-life scenarios: \")\n",
    "print(tuple_1)\n",
    "\n",
    "Cars_set = (\"Mercedes-benz\", \"Lamborghini\", \"BMW\", \"Hyundai\", \"Honda\")\n",
    "print(\"\\n Examples of cars using set data type: \")\n",
    "print(Cars_set)\n",
    "\n",
    "dict_1 = {1: 'Zayd', 2: 'Rana', 3: 'CSE', 4: 'Python coder'}\n",
    "print(\"Example of dictionary in python: \")\n",
    "print(dict_1)"
   ]
  },
  {
   "cell_type": "markdown",
   "metadata": {},
   "source": [
    "Q7) Create a Markdown cell in jupyter and list the steps discussed in the session by Dr. Darshan Ingle sir to create Github profile and upload Githubs Assignment link."
   ]
  },
  {
   "cell_type": "markdown",
   "metadata": {},
   "source": [
    "1. Signup to create a Github profile if you are new to Github else sign through your credentials \n",
    "\n",
    "\n",
    "2. Follow the path Profile -> Your resipositories -> Click on 'Create Resipository'-> Name the resipository as 'LetsUpgrade-AI-ML' -> Description as 'Assignments'-> Make it as 'Public'-> click on 'Create Resipository' # Steps to upload Github Assignment Link \n",
    "\n",
    "\n",
    "3. Upload the files/solution in the repo in day wise manner. \n",
    "\n",
    "\n",
    "4. Copy the URL of the Folder of that day and paste in the Assignment Submission Form (Google Form) \n",
    "\n",
    "\n",
    "5. Make sure you are filling correct details in the Assignment Submission Form."
   ]
  }
 ],
 "metadata": {
  "kernelspec": {
   "display_name": "Python 3",
   "language": "python",
   "name": "python3"
  },
  "language_info": {
   "codemirror_mode": {
    "name": "ipython",
    "version": 3
   },
   "file_extension": ".py",
   "mimetype": "text/x-python",
   "name": "python",
   "nbconvert_exporter": "python",
   "pygments_lexer": "ipython3",
   "version": "3.7.6"
  }
 },
 "nbformat": 4,
 "nbformat_minor": 4
}
