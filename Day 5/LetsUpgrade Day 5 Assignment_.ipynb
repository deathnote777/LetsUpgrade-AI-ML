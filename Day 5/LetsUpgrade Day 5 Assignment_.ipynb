{
 "cells": [
  {
   "cell_type": "markdown",
   "metadata": {},
   "source": [
    "Q1) Write a Python program to find the first 20 non-even prime natural numbers."
   ]
  },
  {
   "cell_type": "code",
   "execution_count": 1,
   "metadata": {},
   "outputs": [
    {
     "name": "stdout",
     "output_type": "stream",
     "text": [
      "7 11 13 17 19 23 29 31 37 41 43 47 53 59 61 67 71 73 79 83 89 97 101 103 107 109 113 127 "
     ]
    }
   ],
   "source": [
    "for value in range(7, 131):\n",
    "    if value > 1:\n",
    "        for i in range(2, value // 2 + 2):\n",
    "            if(value % i) == 0:\n",
    "                break\n",
    "            else:\n",
    "                if i == value // 2 + 1:\n",
    "                    print(value, end = \" \")"
   ]
  },
  {
   "cell_type": "markdown",
   "metadata": {},
   "source": [
    "Q2) Write a Python program to implement 15 functions of string."
   ]
  },
  {
   "cell_type": "code",
   "execution_count": 3,
   "metadata": {},
   "outputs": [
    {
     "name": "stdout",
     "output_type": "stream",
     "text": [
      "False\n",
      "False\n",
      "     Spaceship      \n",
      "2\n",
      "pOLLUTION fREE eNVIRONMENT\n",
      "Pollution Free Environment\n",
      "Namaste\n",
      "Namaste\n",
      "letsupgrade is a new platform\n",
      "LetsUpgrade is a new platform\n",
      "0\n",
      "True\n",
      "True\n",
      "Aditya#Raj#Prateek\n",
      "True\n",
      "['Car', 'shoes', 'glasses']\n",
      "['its', 'good', 'to', 'meet', 'you']\n",
      "True\n"
     ]
    }
   ],
   "source": [
    "str1 = \"Hello World\"\n",
    "print(str1.islower())\n",
    "\n",
    "str2 = \"Programming is Fun\"\n",
    "print(str2.isupper())\n",
    "\n",
    "txt_D = \"Spaceship\"\n",
    "a = txt_D.center(20)\n",
    "print(a)\n",
    "\n",
    "txt_Dr = \"I like fast cars, there are many fast cars in India\"\n",
    "b = txt_Dr.count(\"cars\")\n",
    "print(b)\n",
    "\n",
    "s5 = \"Pollution Free Environment\"\n",
    "print(s5.swapcase())\n",
    "print(s5)\n",
    "\n",
    "s6 = \"Namaste\"\n",
    "print(s6.capitalize())\n",
    "print(s6)\n",
    "\n",
    "s7 = \"LetsUpgrade is a new platform\"\n",
    "print(s7.lower())\n",
    "print(s7)\n",
    "\n",
    "s8 = \"Hello, Its good to see you\"\n",
    "x0 = s8.find(\"Hello\")\n",
    "print(x0)\n",
    "\n",
    "text = \"Drone24\"\n",
    "x = text.isalnum()\n",
    "print(x)\n",
    "\n",
    "s10 = \"007700\"\n",
    "x1 = s10.isnumeric()\n",
    "print(x1)\n",
    "\n",
    "myTuple = (\"Aditya\", \"Raj\", \"Prateek\")\n",
    "x2 = \"#\".join(myTuple)\n",
    "print(x2)\n",
    "\n",
    "txt = \"Darv\"\n",
    "x3 = txt.isidentifier()\n",
    "print(x3)\n",
    "\n",
    "txt_1 = \"Car, shoes, glasses\"\n",
    "x4 = txt_1.rsplit(\", \")\n",
    "print(x4)\n",
    "\n",
    "txt_2 = \"its good to meet you\"\n",
    "x5 = txt_2.split()\n",
    "print(x5)\n",
    "\n",
    "txt_3 = \"Im a newbie.\"\n",
    "x6 = txt_3.rindex(\"newbie\")\n",
    "print(x)"
   ]
  },
  {
   "cell_type": "markdown",
   "metadata": {},
   "source": [
    "Q3) Write a Python program to check if the given string is a Palindrome or Anagram or None of them. Display the message accordingly to the user."
   ]
  },
  {
   "cell_type": "code",
   "execution_count": 4,
   "metadata": {},
   "outputs": [
    {
     "name": "stdout",
     "output_type": "stream",
     "text": [
      "Palindrome\n"
     ]
    }
   ],
   "source": [
    "def isPalindrome(str): \n",
    "  \n",
    "    \n",
    "    for i in range(0, int(len(str)/2)):  \n",
    "        if str[i] != str[len(str)-i-1]: \n",
    "            return False\n",
    "    return True\n",
    "  \n",
    " \n",
    "s = \"Malayalam\"\n",
    "s=s.lower()\n",
    "ans = isPalindrome(s) \n",
    "  \n",
    "if (ans): \n",
    "    print(\"Palindrome\") \n",
    "else: \n",
    "    print(\"Not a Palindrome\")"
   ]
  },
  {
   "cell_type": "code",
   "execution_count": 5,
   "metadata": {},
   "outputs": [
    {
     "name": "stdout",
     "output_type": "stream",
     "text": [
      "The two strings are anagram of each other\n"
     ]
    }
   ],
   "source": [
    "def areAnagram(str1, str2):  \n",
    "    n1 = len(str1)  \n",
    "    n2 = len(str2)  \n",
    "    if n1 != n2:  \n",
    "        return 0 \n",
    "    str1 = sorted(str1) \n",
    "    str2 = sorted(str2) \n",
    " \n",
    "    for i in range(0, n1):  \n",
    "        if str1[i] != str2[i]:  \n",
    "            return 0\n",
    "  \n",
    "    return 1\n",
    "  \n",
    "  \n",
    " \n",
    "str1 = \"testings\"\n",
    "str2 = \"settings\"\n",
    "if areAnagram(str1, str2):  \n",
    "    print (\"The two strings are anagram of each other\") \n",
    "else:  \n",
    "    print (\"The two strings are not anagram of each other\")"
   ]
  },
  {
   "cell_type": "markdown",
   "metadata": {},
   "source": [
    "Q4) Write a Python's user defined function that removes all the additional characters from the string and converts it finally to lower case using built-in lower(). eg: If the string is \"Dr. Darshan Ingle @AI-ML Trainer\", then the output be \"drdarshaningleaimltrainer\"."
   ]
  },
  {
   "cell_type": "code",
   "execution_count": 6,
   "metadata": {},
   "outputs": [
    {
     "name": "stdout",
     "output_type": "stream",
     "text": [
      "drdarshaningleaimltrainer\n"
     ]
    }
   ],
   "source": [
    "\n",
    "def removalofAddchar(a):\n",
    "    s=\"\"\n",
    "    for i in range(0,len(a)):\n",
    "        if a[i].isalnum():\n",
    "            s=s+a[i].lower()\n",
    "    print(s)\n",
    "            \n",
    "\n",
    "\n",
    "a = \"Dr. Darshan Ingle @AI-ML Trainer\"\n",
    "removalofAddchar(a)"
   ]
  }
 ],
 "metadata": {
  "kernelspec": {
   "display_name": "Python 3",
   "language": "python",
   "name": "python3"
  },
  "language_info": {
   "codemirror_mode": {
    "name": "ipython",
    "version": 3
   },
   "file_extension": ".py",
   "mimetype": "text/x-python",
   "name": "python",
   "nbconvert_exporter": "python",
   "pygments_lexer": "ipython3",
   "version": "3.7.6"
  }
 },
 "nbformat": 4,
 "nbformat_minor": 4
}
