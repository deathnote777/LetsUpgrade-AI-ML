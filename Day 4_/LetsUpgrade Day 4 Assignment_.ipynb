{
 "cells": [
  {
   "cell_type": "markdown",
   "metadata": {},
   "source": [
    "Q1) Research on whether addition, subtraction, multiplication, division, floor division and modulo operations be performed on complex numbers. Based on your study, implement a Python program to demonstrate these operations."
   ]
  },
  {
   "cell_type": "code",
   "execution_count": 1,
   "metadata": {},
   "outputs": [
    {
     "name": "stdout",
     "output_type": "stream",
     "text": [
      "Addition of two complex numbers (12+4j)\n",
      "Subtraction of two complex numbers (-4+10j)\n",
      "Multiplication of two complex numbers (53+44j)\n",
      "Division of two complex numbers (0.1506849315068493+0.9315068493150684j)\n"
     ]
    }
   ],
   "source": [
    "a = 4 + 7j\n",
    "b = 8 - 3j\n",
    "print('Addition of two complex numbers',a+b)\n",
    "print('Subtraction of two complex numbers',a-b)\n",
    "print('Multiplication of two complex numbers',a*b)\n",
    "print('Division of two complex numbers',a/b)"
   ]
  },
  {
   "cell_type": "markdown",
   "metadata": {},
   "source": [
    "Q2) Research on range() functions and its parameters. Create a markdown cell and write in your own words (no copy-paste from google please) what you understand about it. Implement a small program of your choice on the same.\n",
    "\n"
   ]
  },
  {
   "cell_type": "markdown",
   "metadata": {},
   "source": [
    "Range() :Range function in python is used for returning sequences of a given number by the user by specifying the start value which is 0 by default, increments it by 1, and stop value before the given number specified by the user.\n",
    "\n",
    "Syntax : range(Start, stop, step)\n",
    "\n",
    "There are 3 steps for using the range() function in python: range(stop) : Takes only one argument range(start, stop) : Takes 2 arguments and user can specify the start and stop which any one of it can be optional. range(start, stop, step) : Takes 3 arguments and here step denotes the increment/decrement value that is to be performed."
   ]
  },
  {
   "cell_type": "code",
   "execution_count": 3,
   "metadata": {},
   "outputs": [
    {
     "name": "stdout",
     "output_type": "stream",
     "text": [
      "5 9 13 17 21 25 29 33 37 41 45 49 53 57 61 65 69 73 77 \n"
     ]
    }
   ],
   "source": [
    "for x in range(5, 80, 4):\n",
    "    print(x, end = \" \")\n",
    "print()"
   ]
  },
  {
   "cell_type": "markdown",
   "metadata": {},
   "source": [
    "Q3) Consider two numbers. Perform their subtraction and if the result of subtraction is greater than 25, print their multiplication result else print their division result."
   ]
  },
  {
   "cell_type": "code",
   "execution_count": 5,
   "metadata": {},
   "outputs": [
    {
     "name": "stdout",
     "output_type": "stream",
     "text": [
      "As difference is greater than 25 multiplication is executed. Multiplication of two numbers is 2788\n"
     ]
    }
   ],
   "source": [
    "a = 82\n",
    "b = 34\n",
    "if a-b > 34:\n",
    "    print('As difference is greater than 25 multiplication is executed. Multiplication of two numbers is',a*b) \n",
    "else:\n",
    "    print('As difference is lesser than 25 Division is executed. Division of two numbers is',a/b)"
   ]
  },
  {
   "cell_type": "markdown",
   "metadata": {},
   "source": [
    "Q4) Consider a list of 10 elements of integer values. If the number in the list is divisible by 2, print the result as \"square of that number minus 2\"."
   ]
  },
  {
   "cell_type": "code",
   "execution_count": 6,
   "metadata": {},
   "outputs": [
    {
     "name": "stdout",
     "output_type": "stream",
     "text": [
      "2\n",
      "14\n",
      "34\n",
      "62\n",
      "98\n"
     ]
    }
   ],
   "source": [
    "x = [1,2,3,4,5,6,7,8,9,10]\n",
    "for i in x:\n",
    "    if(i % 2 == 0):\n",
    "        print(i * i -2)"
   ]
  },
  {
   "cell_type": "markdown",
   "metadata": {},
   "source": [
    "Q5) Consider a list of 10 elements. Print all the elements in the list which are greater than 7 when that number is divided 2."
   ]
  },
  {
   "cell_type": "code",
   "execution_count": 8,
   "metadata": {},
   "outputs": [
    {
     "name": "stdout",
     "output_type": "stream",
     "text": [
      "35\n",
      "29\n",
      "24\n",
      "42\n",
      "22\n",
      "44\n"
     ]
    }
   ],
   "source": [
    "l = [35, 29, 24, 42, 11, 9, 12, 22, 4, 44]\n",
    "for i in l:\n",
    "    if i/2 > 7:\n",
    "        print(i)"
   ]
  },
  {
   "cell_type": "code",
   "execution_count": null,
   "metadata": {},
   "outputs": [],
   "source": []
  }
 ],
 "metadata": {
  "kernelspec": {
   "display_name": "Python 3",
   "language": "python",
   "name": "python3"
  },
  "language_info": {
   "codemirror_mode": {
    "name": "ipython",
    "version": 3
   },
   "file_extension": ".py",
   "mimetype": "text/x-python",
   "name": "python",
   "nbconvert_exporter": "python",
   "pygments_lexer": "ipython3",
   "version": "3.7.6"
  }
 },
 "nbformat": 4,
 "nbformat_minor": 4
}
